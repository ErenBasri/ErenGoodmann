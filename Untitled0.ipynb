{
  "nbformat": 4,
  "nbformat_minor": 0,
  "metadata": {
    "colab": {
      "provenance": []
    },
    "kernelspec": {
      "name": "python3",
      "display_name": "Python 3"
    },
    "language_info": {
      "name": "python"
    }
  },
  "cells": [
    {
      "cell_type": "code",
      "execution_count": 2,
      "metadata": {
        "colab": {
          "base_uri": "https://localhost:8080/"
        },
        "id": "vIX21f9vA6i3",
        "outputId": "a95dc515-9d43-4da1-b6ee-5b43a70f9df5"
      },
      "outputs": [
        {
          "output_type": "stream",
          "name": "stdout",
          "text": [
            "Merhaba ErenGoodmann\n"
          ]
        }
      ],
      "source": [
        "print(\"Merhaba ErenGoodmann\") # ilk pyhton programı cıktısıdır\n"
      ]
    },
    {
      "cell_type": "code",
      "source": [
        "import sys # import pyhton programlama dilinde yazılım kütüphane eklemeye yarayankod\n",
        "print(sys.version)"
      ],
      "metadata": {
        "colab": {
          "base_uri": "https://localhost:8080/"
        },
        "id": "_zHSpEjmGHMg",
        "outputId": "5876e6b1-8dbf-4956-9780-2050b4e52106"
      },
      "execution_count": 3,
      "outputs": [
        {
          "output_type": "stream",
          "name": "stdout",
          "text": [
            "3.10.12 (main, Sep 11 2024, 15:47:36) [GCC 11.4.0]\n"
          ]
        }
      ]
    },
    {
      "cell_type": "code",
      "source": [
        "from google.colab import drive # google colab - drive bağlantısı\n",
        "drive.mount('/content/drive')"
      ],
      "metadata": {
        "colab": {
          "base_uri": "https://localhost:8080/"
        },
        "id": "akIyxr7dGwHm",
        "outputId": "792a4ab0-92c3-4e5b-ae1f-6a6146a57af8"
      },
      "execution_count": 4,
      "outputs": [
        {
          "output_type": "stream",
          "name": "stdout",
          "text": [
            "Mounted at /content/drive\n"
          ]
        }
      ]
    },
    {
      "cell_type": "code",
      "source": [
        " import os\n",
        " os.chdir('/content/drive/My Drive/ErenGoodman')\n",
        " ! pwd # bize kodun çıktısını dosya yolu olarak veren kod blogudur."
      ],
      "metadata": {
        "colab": {
          "base_uri": "https://localhost:8080/"
        },
        "id": "HA53pBUKHKRs",
        "outputId": "6173432f-deb6-4146-9f17-c19cf8d28a35"
      },
      "execution_count": 10,
      "outputs": [
        {
          "output_type": "stream",
          "name": "stdout",
          "text": [
            "/content/drive/My Drive/ErenGoodman\n"
          ]
        }
      ]
    },
    {
      "cell_type": "markdown",
      "source": [
        "ErenGoodman ilk yapay zeka kodu 30.09.2024\n",
        "Eren Basri Durusoy\n"
      ],
      "metadata": {
        "id": "80Q34FCGB2K5"
      }
    }
  ]
}